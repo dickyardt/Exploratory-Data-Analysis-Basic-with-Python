{
 "cells": [
  {
   "cell_type": "code",
   "execution_count": 1,
   "metadata": {},
   "outputs": [
    {
     "name": "stdout",
     "output_type": "stream",
     "text": [
      "                               order_id  quantity  \\\n",
      "0      2e7a8482f6fb09756ca50c10d7bfc047         2   \n",
      "1      2e7a8482f6fb09756ca50c10d7bfc047         1   \n",
      "2      e5fa5a7210941f7d56d0208e4e071d35         1   \n",
      "3      3b697a20d9e427646d92567910af6d57         1   \n",
      "4      71303d7e93b399f5bcd537d124c0bcfa         1   \n",
      "...                                 ...       ...   \n",
      "49994  ec88157ad03aa203c3fdfe7bace5ab6b         1   \n",
      "49995  ed60085e92e2aa3debf49159deb34da7         1   \n",
      "49996  ed98c37d860890f940e2acd83629fdd1         2   \n",
      "49997  ed98c37d860890f940e2acd83629fdd1         1   \n",
      "49998  ede4ebbb6e36cbd377eabcc7f5229575         1   \n",
      "\n",
      "                             product_id    price  \\\n",
      "0      f293394c72c9b5fafd7023301fc21fc2  1489000   \n",
      "1      c1488892604e4ba5cff5b4eb4d595400  1756000   \n",
      "2      f3c2d01a84c947b078e32bbef0718962  1707000   \n",
      "3      3ae08df6bcbfe23586dd431c40bddbb7  3071000   \n",
      "4      d2998d7ced12f83f9b832f33cf6507b6  3833000   \n",
      "...                                 ...      ...   \n",
      "49994  165f86fe8b799a708a20ee4ba125c289  3077000   \n",
      "49995  6e835aea84ae8eb68b8c14878dd43b30  1277000   \n",
      "49996  aca2eb7d00ea1a7b8ebd4e68314663af   486000   \n",
      "49997  aca2eb7d00ea1a7b8ebd4e68314663af   830000   \n",
      "49998  2b0ee2d07306f7c9ac55a43166e9bb4b   215000   \n",
      "\n",
      "                              seller_id  freight_value  \\\n",
      "0      1554a68530182680ad5c8b042c3ab563          28000   \n",
      "1      1554a68530182680ad5c8b042c3ab563          45000   \n",
      "2      a425f92c199eb576938df686728acd20         174000   \n",
      "3      522620dcb18a6b31cd7bdf73665113a9         154000   \n",
      "4      25e6ffe976bd75618accfe16cefcbd0d         147000   \n",
      "...                                 ...            ...   \n",
      "49994  7ddcbb64b5bc1ef36ca8c151f6ec77df         172000   \n",
      "49995  4d6d651bd7684af3fffabd5f08d12e5a         130000   \n",
      "49996  955fee9216a65b617aa5c0531780ce60          14000   \n",
      "49997  955fee9216a65b617aa5c0531780ce60         108000   \n",
      "49998  1900267e848ceeba8fa32d80c1a5f5a8         189000   \n",
      "\n",
      "                            customer_id order_status purchase_date  \\\n",
      "0      08c5351a6aca1c1589a38f244edeee9d      shipped    2016-09-05   \n",
      "1      08c5351a6aca1c1589a38f244edeee9d      shipped    2016-09-05   \n",
      "2      683c54fc24d40ee9f8a6fc179fd9856c     canceled    2016-09-05   \n",
      "3      355077684019f7f60a031656bd7262b8    delivered    2016-10-03   \n",
      "4      b106b360fe2ef8849fbbd056f777b4d5     canceled    2016-10-03   \n",
      "...                                 ...          ...           ...   \n",
      "49994  1642b8087a8ca0c8592becff7e183c98    delivered    2017-12-15   \n",
      "49995  431bbb57d52f3141ab2f33a6a4cf00a6    delivered    2017-12-15   \n",
      "49996  71f8cd490677ee95362201588c0eaff4    delivered    2017-12-15   \n",
      "49997  71f8cd490677ee95362201588c0eaff4    delivered    2017-12-15   \n",
      "49998  60d2d93a97ec1ad751f2ddce9249ba2a    delivered    2017-12-15   \n",
      "\n",
      "          payment_type product_category_name  product_weight_gram  \n",
      "0      virtual account               fashion               1800.0  \n",
      "1      virtual account            automotive               1400.0  \n",
      "2             e-wallet                  toys                700.0  \n",
      "3             e-wallet             utilities                300.0  \n",
      "4             e-wallet               fashion                500.0  \n",
      "...                ...                   ...                  ...  \n",
      "49994         e-wallet            automotive               2425.0  \n",
      "49995       debit card                beauty               2350.0  \n",
      "49996       debit card                gadget               2600.0  \n",
      "49997         e-wallet                gadget               2600.0  \n",
      "49998      credit card                beauty               1450.0  \n",
      "\n",
      "[49999 rows x 12 columns]\n"
     ]
    }
   ],
   "source": [
    "#Mengimport dataset dari file order.csv\n",
    "import pandas as pd\n",
    "order_df = pd.read_csv('order.csv')\n",
    "print(order_df)"
   ]
  },
  {
   "cell_type": "code",
   "execution_count": 2,
   "metadata": {},
   "outputs": [
    {
     "name": "stdout",
     "output_type": "stream",
     "text": [
      "(49999, 12)\n"
     ]
    }
   ],
   "source": [
    "#Melihat struktur dataset\n",
    "print(order_df.shape)"
   ]
  },
  {
   "cell_type": "code",
   "execution_count": 5,
   "metadata": {},
   "outputs": [
    {
     "data": {
      "text/html": [
       "<div>\n",
       "<style scoped>\n",
       "    .dataframe tbody tr th:only-of-type {\n",
       "        vertical-align: middle;\n",
       "    }\n",
       "\n",
       "    .dataframe tbody tr th {\n",
       "        vertical-align: top;\n",
       "    }\n",
       "\n",
       "    .dataframe thead th {\n",
       "        text-align: right;\n",
       "    }\n",
       "</style>\n",
       "<table border=\"1\" class=\"dataframe\">\n",
       "  <thead>\n",
       "    <tr style=\"text-align: right;\">\n",
       "      <th></th>\n",
       "      <th>order_id</th>\n",
       "      <th>quantity</th>\n",
       "      <th>product_id</th>\n",
       "      <th>price</th>\n",
       "      <th>seller_id</th>\n",
       "      <th>freight_value</th>\n",
       "      <th>customer_id</th>\n",
       "      <th>order_status</th>\n",
       "      <th>purchase_date</th>\n",
       "      <th>payment_type</th>\n",
       "      <th>product_category_name</th>\n",
       "      <th>product_weight_gram</th>\n",
       "    </tr>\n",
       "  </thead>\n",
       "  <tbody>\n",
       "    <tr>\n",
       "      <th>0</th>\n",
       "      <td>2e7a8482f6fb09756ca50c10d7bfc047</td>\n",
       "      <td>2</td>\n",
       "      <td>f293394c72c9b5fafd7023301fc21fc2</td>\n",
       "      <td>1489000</td>\n",
       "      <td>1554a68530182680ad5c8b042c3ab563</td>\n",
       "      <td>28000</td>\n",
       "      <td>08c5351a6aca1c1589a38f244edeee9d</td>\n",
       "      <td>shipped</td>\n",
       "      <td>2016-09-05</td>\n",
       "      <td>virtual account</td>\n",
       "      <td>fashion</td>\n",
       "      <td>1800.0</td>\n",
       "    </tr>\n",
       "    <tr>\n",
       "      <th>1</th>\n",
       "      <td>2e7a8482f6fb09756ca50c10d7bfc047</td>\n",
       "      <td>1</td>\n",
       "      <td>c1488892604e4ba5cff5b4eb4d595400</td>\n",
       "      <td>1756000</td>\n",
       "      <td>1554a68530182680ad5c8b042c3ab563</td>\n",
       "      <td>45000</td>\n",
       "      <td>08c5351a6aca1c1589a38f244edeee9d</td>\n",
       "      <td>shipped</td>\n",
       "      <td>2016-09-05</td>\n",
       "      <td>virtual account</td>\n",
       "      <td>automotive</td>\n",
       "      <td>1400.0</td>\n",
       "    </tr>\n",
       "    <tr>\n",
       "      <th>2</th>\n",
       "      <td>e5fa5a7210941f7d56d0208e4e071d35</td>\n",
       "      <td>1</td>\n",
       "      <td>f3c2d01a84c947b078e32bbef0718962</td>\n",
       "      <td>1707000</td>\n",
       "      <td>a425f92c199eb576938df686728acd20</td>\n",
       "      <td>174000</td>\n",
       "      <td>683c54fc24d40ee9f8a6fc179fd9856c</td>\n",
       "      <td>canceled</td>\n",
       "      <td>2016-09-05</td>\n",
       "      <td>e-wallet</td>\n",
       "      <td>toys</td>\n",
       "      <td>700.0</td>\n",
       "    </tr>\n",
       "    <tr>\n",
       "      <th>3</th>\n",
       "      <td>3b697a20d9e427646d92567910af6d57</td>\n",
       "      <td>1</td>\n",
       "      <td>3ae08df6bcbfe23586dd431c40bddbb7</td>\n",
       "      <td>3071000</td>\n",
       "      <td>522620dcb18a6b31cd7bdf73665113a9</td>\n",
       "      <td>154000</td>\n",
       "      <td>355077684019f7f60a031656bd7262b8</td>\n",
       "      <td>delivered</td>\n",
       "      <td>2016-10-03</td>\n",
       "      <td>e-wallet</td>\n",
       "      <td>utilities</td>\n",
       "      <td>300.0</td>\n",
       "    </tr>\n",
       "    <tr>\n",
       "      <th>4</th>\n",
       "      <td>71303d7e93b399f5bcd537d124c0bcfa</td>\n",
       "      <td>1</td>\n",
       "      <td>d2998d7ced12f83f9b832f33cf6507b6</td>\n",
       "      <td>3833000</td>\n",
       "      <td>25e6ffe976bd75618accfe16cefcbd0d</td>\n",
       "      <td>147000</td>\n",
       "      <td>b106b360fe2ef8849fbbd056f777b4d5</td>\n",
       "      <td>canceled</td>\n",
       "      <td>2016-10-03</td>\n",
       "      <td>e-wallet</td>\n",
       "      <td>fashion</td>\n",
       "      <td>500.0</td>\n",
       "    </tr>\n",
       "    <tr>\n",
       "      <th>5</th>\n",
       "      <td>be5bc2f0da14d8071e2d45451ad119d9</td>\n",
       "      <td>1</td>\n",
       "      <td>fd7fd78fd3cbc1b0a6370a7909c0a629</td>\n",
       "      <td>1480000</td>\n",
       "      <td>f09b760d23495ac9a7e00d29b769007c</td>\n",
       "      <td>152000</td>\n",
       "      <td>7ec40b22510fdbea1b08921dd39e63d8</td>\n",
       "      <td>delivered</td>\n",
       "      <td>2016-10-03</td>\n",
       "      <td>e-wallet</td>\n",
       "      <td>electronics</td>\n",
       "      <td>400.0</td>\n",
       "    </tr>\n",
       "    <tr>\n",
       "      <th>6</th>\n",
       "      <td>0a0837a5eee9e7a9ce2b1fa831944d27</td>\n",
       "      <td>1</td>\n",
       "      <td>583916a5dae918f5e89baec139141c54</td>\n",
       "      <td>4489000</td>\n",
       "      <td>3481aa57cd91f9f9d3fa1fa12d9a3bf7</td>\n",
       "      <td>16000</td>\n",
       "      <td>4f3f778022aefa22b9f9e52d2c47edf3</td>\n",
       "      <td>delivered</td>\n",
       "      <td>2016-10-04</td>\n",
       "      <td>debit card</td>\n",
       "      <td>toys</td>\n",
       "      <td>3100.0</td>\n",
       "    </tr>\n",
       "    <tr>\n",
       "      <th>7</th>\n",
       "      <td>1ff217aa612f6cd7c4255c9bfe931c8b</td>\n",
       "      <td>1</td>\n",
       "      <td>33430c5c1027d812b5c62f778e5ee7f7</td>\n",
       "      <td>822000</td>\n",
       "      <td>4b1eaadf791bdbbad8c4a35b65236d52</td>\n",
       "      <td>58000</td>\n",
       "      <td>b3a9bf200375f53cc5c6991919c356fd</td>\n",
       "      <td>delivered</td>\n",
       "      <td>2016-10-04</td>\n",
       "      <td>credit card</td>\n",
       "      <td>automotive</td>\n",
       "      <td>200.0</td>\n",
       "    </tr>\n",
       "    <tr>\n",
       "      <th>8</th>\n",
       "      <td>22613579f7d11cc59c4347526fc3c79e</td>\n",
       "      <td>1</td>\n",
       "      <td>3ff81cd0e0861e991bb0106c03c113ca</td>\n",
       "      <td>3967000</td>\n",
       "      <td>86bb7c4b535e49a541baf3266b1c95b1</td>\n",
       "      <td>95000</td>\n",
       "      <td>53cc5d344077104b59d4f6836a90eb0b</td>\n",
       "      <td>delivered</td>\n",
       "      <td>2016-10-04</td>\n",
       "      <td>debit card</td>\n",
       "      <td>beauty</td>\n",
       "      <td>600.0</td>\n",
       "    </tr>\n",
       "    <tr>\n",
       "      <th>9</th>\n",
       "      <td>356b492aba2d1a7da886e54e0b6212b7</td>\n",
       "      <td>1</td>\n",
       "      <td>eba7488e1c67729f045ab43fac426f2e</td>\n",
       "      <td>4165000</td>\n",
       "      <td>620c87c171fb2a6dd6e8bb4dec959fc6</td>\n",
       "      <td>98000</td>\n",
       "      <td>68c74d748a55f9d29e6698f4b01a0df7</td>\n",
       "      <td>delivered</td>\n",
       "      <td>2016-10-04</td>\n",
       "      <td>credit card</td>\n",
       "      <td>automotive</td>\n",
       "      <td>610.0</td>\n",
       "    </tr>\n",
       "  </tbody>\n",
       "</table>\n",
       "</div>"
      ],
      "text/plain": [
       "                           order_id  quantity  \\\n",
       "0  2e7a8482f6fb09756ca50c10d7bfc047         2   \n",
       "1  2e7a8482f6fb09756ca50c10d7bfc047         1   \n",
       "2  e5fa5a7210941f7d56d0208e4e071d35         1   \n",
       "3  3b697a20d9e427646d92567910af6d57         1   \n",
       "4  71303d7e93b399f5bcd537d124c0bcfa         1   \n",
       "5  be5bc2f0da14d8071e2d45451ad119d9         1   \n",
       "6  0a0837a5eee9e7a9ce2b1fa831944d27         1   \n",
       "7  1ff217aa612f6cd7c4255c9bfe931c8b         1   \n",
       "8  22613579f7d11cc59c4347526fc3c79e         1   \n",
       "9  356b492aba2d1a7da886e54e0b6212b7         1   \n",
       "\n",
       "                         product_id    price  \\\n",
       "0  f293394c72c9b5fafd7023301fc21fc2  1489000   \n",
       "1  c1488892604e4ba5cff5b4eb4d595400  1756000   \n",
       "2  f3c2d01a84c947b078e32bbef0718962  1707000   \n",
       "3  3ae08df6bcbfe23586dd431c40bddbb7  3071000   \n",
       "4  d2998d7ced12f83f9b832f33cf6507b6  3833000   \n",
       "5  fd7fd78fd3cbc1b0a6370a7909c0a629  1480000   \n",
       "6  583916a5dae918f5e89baec139141c54  4489000   \n",
       "7  33430c5c1027d812b5c62f778e5ee7f7   822000   \n",
       "8  3ff81cd0e0861e991bb0106c03c113ca  3967000   \n",
       "9  eba7488e1c67729f045ab43fac426f2e  4165000   \n",
       "\n",
       "                          seller_id  freight_value  \\\n",
       "0  1554a68530182680ad5c8b042c3ab563          28000   \n",
       "1  1554a68530182680ad5c8b042c3ab563          45000   \n",
       "2  a425f92c199eb576938df686728acd20         174000   \n",
       "3  522620dcb18a6b31cd7bdf73665113a9         154000   \n",
       "4  25e6ffe976bd75618accfe16cefcbd0d         147000   \n",
       "5  f09b760d23495ac9a7e00d29b769007c         152000   \n",
       "6  3481aa57cd91f9f9d3fa1fa12d9a3bf7          16000   \n",
       "7  4b1eaadf791bdbbad8c4a35b65236d52          58000   \n",
       "8  86bb7c4b535e49a541baf3266b1c95b1          95000   \n",
       "9  620c87c171fb2a6dd6e8bb4dec959fc6          98000   \n",
       "\n",
       "                        customer_id order_status purchase_date  \\\n",
       "0  08c5351a6aca1c1589a38f244edeee9d      shipped    2016-09-05   \n",
       "1  08c5351a6aca1c1589a38f244edeee9d      shipped    2016-09-05   \n",
       "2  683c54fc24d40ee9f8a6fc179fd9856c     canceled    2016-09-05   \n",
       "3  355077684019f7f60a031656bd7262b8    delivered    2016-10-03   \n",
       "4  b106b360fe2ef8849fbbd056f777b4d5     canceled    2016-10-03   \n",
       "5  7ec40b22510fdbea1b08921dd39e63d8    delivered    2016-10-03   \n",
       "6  4f3f778022aefa22b9f9e52d2c47edf3    delivered    2016-10-04   \n",
       "7  b3a9bf200375f53cc5c6991919c356fd    delivered    2016-10-04   \n",
       "8  53cc5d344077104b59d4f6836a90eb0b    delivered    2016-10-04   \n",
       "9  68c74d748a55f9d29e6698f4b01a0df7    delivered    2016-10-04   \n",
       "\n",
       "      payment_type product_category_name  product_weight_gram  \n",
       "0  virtual account               fashion               1800.0  \n",
       "1  virtual account            automotive               1400.0  \n",
       "2         e-wallet                  toys                700.0  \n",
       "3         e-wallet             utilities                300.0  \n",
       "4         e-wallet               fashion                500.0  \n",
       "5         e-wallet           electronics                400.0  \n",
       "6       debit card                  toys               3100.0  \n",
       "7      credit card            automotive                200.0  \n",
       "8       debit card                beauty                600.0  \n",
       "9      credit card            automotive                610.0  "
      ]
     },
     "execution_count": 5,
     "metadata": {},
     "output_type": "execute_result"
    }
   ],
   "source": [
    "#Melihat preview data dari dataframe dengan fungsi head limit 10 baris\n",
    "order_df.head(10)"
   ]
  },
  {
   "cell_type": "code",
   "execution_count": 8,
   "metadata": {},
   "outputs": [
    {
     "name": "stdout",
     "output_type": "stream",
     "text": [
      "           quantity         price  freight_value  product_weight_gram\n",
      "count  49999.000000  4.999900e+04   49999.000000         49980.000000\n",
      "mean       1.197484  2.607784e+06  104521.390428          2201.830892\n",
      "std        0.722262  1.388312e+06   55179.844962          3929.896875\n",
      "min        1.000000  2.000000e+05    9000.000000            50.000000\n",
      "25%        1.000000  1.410500e+06   57000.000000           300.000000\n",
      "50%        1.000000  2.610000e+06  104000.000000           800.000000\n",
      "75%        1.000000  3.810000e+06  152000.000000          1850.000000\n",
      "max       21.000000  5.000000e+06  200000.000000         40425.000000\n",
      "2610000.0\n"
     ]
    }
   ],
   "source": [
    "#Melihat statistik deskriptif dan median dari dataframe\n",
    "print(order_df.describe())\n",
    "print(order_df.loc[:, \"price\"].median())"
   ]
  },
  {
   "cell_type": "code",
   "execution_count": 11,
   "metadata": {},
   "outputs": [
    {
     "data": {
      "text/plain": [
       "<matplotlib.axes._subplots.AxesSubplot at 0x79c0e70>"
      ]
     },
     "execution_count": 11,
     "metadata": {},
     "output_type": "execute_result"
    },
    {
     "data": {
      "image/png": "[encoded data removed]",
      "text/plain": [
       "<Figure size 432x288 with 1 Axes>"
      ]
     },
     "metadata": {
      "needs_background": "light"
     },
     "output_type": "display_data"
    }
   ],
   "source": [
    "#Membuat distribusi data dengan histogram\n",
    "order_df[[\"price\"]].plot.hist()"
   ]
  },
  {
   "cell_type": "code",
   "execution_count": 12,
   "metadata": {},
   "outputs": [
    {
     "data": {
      "text/plain": [
       "15444089.451064402"
      ]
     },
     "execution_count": 12,
     "metadata": {},
     "output_type": "execute_result"
    }
   ],
   "source": [
    "#Melihat standar deviasi dan varians\n",
    "order_df.loc[:, \"product_weight_gram\"].std()\n",
    "# Varians kolom product_weight_gram\n",
    "order_df.loc[:, \"product_weight_gram\"].var()"
   ]
  },
  {
   "cell_type": "code",
   "execution_count": 14,
   "metadata": {},
   "outputs": [
    {
     "name": "stdout",
     "output_type": "stream",
     "text": [
      "product_weight_gram    1550.0\n",
      "dtype: float64\n"
     ]
    }
   ],
   "source": [
    "#Menentukan metric IQR untuk menemukan Outliers\n",
    "#Data suatu observasi dapat dikatakan outliers jika memenuhi kedua syarat dibawah ini:\n",
    "#data < Q1 - 1.5 * IQR\n",
    "#data > Q3 + 1.5 * IQR\n",
    "Q1 = order_df[[\"product_weight_gram\"]].quantile(0.25)\n",
    "Q3 = order_df[[\"product_weight_gram\"]].quantile(0.75)\n",
    "IQR = Q3-Q1\n",
    "print(IQR)"
   ]
  },
  {
   "cell_type": "code",
   "execution_count": 16,
   "metadata": {},
   "outputs": [],
   "source": [
    "#Merename kolom dataframe\n",
    "order_df.rename(columns={\"freight_value\": \"shipping_cost\"}, inplace=True)"
   ]
  },
  {
   "cell_type": "code",
   "execution_count": 17,
   "metadata": {},
   "outputs": [
    {
     "name": "stdout",
     "output_type": "stream",
     "text": [
      "payment_type\n",
      "credit card        2.600706e+06\n",
      "debit card         2.611974e+06\n",
      "e-wallet           2.598562e+06\n",
      "virtual account    2.619786e+06\n",
      "Name: price, dtype: float64\n"
     ]
    }
   ],
   "source": [
    "#Group by untuk mencari summary dari data frame dengan menggunakan aggregate dari kolom tertentu.\n",
    "rata_rata = order_df[\"price\"].groupby(order_df[\"payment_type\"]).mean()\n",
    "print(rata_rata)"
   ]
  },
  {
   "cell_type": "code",
   "execution_count": 19,
   "metadata": {},
   "outputs": [],
   "source": [
    "#Sorting dataframe\n",
    "sort_harga = order_df.sort_values(by=\"price\", ascending=False)"
   ]
  }
 ],
 "metadata": {
  "kernelspec": {
   "display_name": "Python 3",
   "language": "python",
   "name": "python3"
  },
  "language_info": {
   "codemirror_mode": {
    "name": "ipython",
    "version": 3
   },
   "file_extension": ".py",
   "mimetype": "text/x-python",
   "name": "python",
   "nbconvert_exporter": "python",
   "pygments_lexer": "ipython3",
   "version": "3.7.6"
  }
 },
 "nbformat": 4,
 "nbformat_minor": 4
}
